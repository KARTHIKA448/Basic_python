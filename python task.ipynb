{
 "cells": [
  {
   "cell_type": "markdown",
   "id": "7da27be2",
   "metadata": {},
   "source": [
    "## 1- Create a program which return current date and time"
   ]
  },
  {
   "cell_type": "code",
   "execution_count": 51,
   "id": "0a1a422a",
   "metadata": {},
   "outputs": [],
   "source": [
    "import datetime"
   ]
  },
  {
   "cell_type": "code",
   "execution_count": 40,
   "id": "f69fa2d5",
   "metadata": {},
   "outputs": [
    {
     "name": "stdout",
     "output_type": "stream",
     "text": [
      "current date: 2023-07-04\n"
     ]
    }
   ],
   "source": [
    "today=datetime.datetime.now()\n",
    "print(f\"current date: {today.date()}\")"
   ]
  },
  {
   "cell_type": "code",
   "execution_count": 48,
   "id": "02056451",
   "metadata": {},
   "outputs": [
    {
     "name": "stdout",
     "output_type": "stream",
     "text": [
      "04-07-23\n"
     ]
    }
   ],
   "source": [
    "today=datetime.datetime.now()\n",
    "now=datetime.datetime.now()\n",
    "print(now.strftime(\"%d-%m-%y\"))"
   ]
  },
  {
   "cell_type": "code",
   "execution_count": 53,
   "id": "475dbb04",
   "metadata": {},
   "outputs": [
    {
     "name": "stdout",
     "output_type": "stream",
     "text": [
      "current time: 20:26:44.803579\n"
     ]
    }
   ],
   "source": [
    "today=datetime.datetime.now()\n",
    "print(f\"current time: {today.time()}\")"
   ]
  },
  {
   "cell_type": "code",
   "execution_count": 49,
   "id": "b86af8b7",
   "metadata": {},
   "outputs": [
    {
     "name": "stdout",
     "output_type": "stream",
     "text": [
      "20:25:35\n"
     ]
    }
   ],
   "source": [
    "today=datetime.datetime.now()\n",
    "now=datetime.datetime.now()\n",
    "print(now.strftime(\"%H:%M:%S\"))"
   ]
  },
  {
   "cell_type": "code",
   "execution_count": 54,
   "id": "10d584d2",
   "metadata": {},
   "outputs": [
    {
     "ename": "AttributeError",
     "evalue": "'datetime.datetime' object has no attribute 'datetime'",
     "output_type": "error",
     "traceback": [
      "\u001b[1;31m---------------------------------------------------------------------------\u001b[0m",
      "\u001b[1;31mAttributeError\u001b[0m                            Traceback (most recent call last)",
      "Cell \u001b[1;32mIn[54], line 2\u001b[0m\n\u001b[0;32m      1\u001b[0m today\u001b[38;5;241m=\u001b[39mdatetime\u001b[38;5;241m.\u001b[39mdatetime\u001b[38;5;241m.\u001b[39mnow()\n\u001b[1;32m----> 2\u001b[0m \u001b[38;5;28mprint\u001b[39m(\u001b[38;5;124mf\u001b[39m\u001b[38;5;124m\"\u001b[39m\u001b[38;5;124mcurrent date and time: \u001b[39m\u001b[38;5;132;01m{\u001b[39;00mtoday\u001b[38;5;241m.\u001b[39mdatetime()\u001b[38;5;132;01m}\u001b[39;00m\u001b[38;5;124m\"\u001b[39m)\n",
      "\u001b[1;31mAttributeError\u001b[0m: 'datetime.datetime' object has no attribute 'datetime'"
     ]
    }
   ],
   "source": [
    "today=datetime.datetime.now()\n",
    "print(f\"current date and time: {today.datetime()}\")"
   ]
  },
  {
   "cell_type": "code",
   "execution_count": 57,
   "id": "3b9fb92d",
   "metadata": {},
   "outputs": [
    {
     "name": "stdout",
     "output_type": "stream",
     "text": [
      "04-07-23 20:29:29\n"
     ]
    }
   ],
   "source": [
    "today=datetime.datetime.now()\n",
    "now=datetime.datetime.now()\n",
    "print(now.strftime(\"%d-%m-%y %H:%M:%S\"))"
   ]
  },
  {
   "cell_type": "code",
   "execution_count": 62,
   "id": "0ac531cf",
   "metadata": {},
   "outputs": [
    {
     "name": "stdout",
     "output_type": "stream",
     "text": [
      "current date: 04-07-23, current time: 20:30:57\n"
     ]
    }
   ],
   "source": [
    "today=datetime.datetime.now()\n",
    "now=datetime.datetime.now()\n",
    "print(now.strftime(\"current date: %d-%m-%y, current time: %H:%M:%S\"))"
   ]
  },
  {
   "cell_type": "markdown",
   "id": "aaf99fe9",
   "metadata": {},
   "source": [
    "## 2. Write a Python program that calculates the area of a circle based on the radius entered by the user.?"
   ]
  },
  {
   "cell_type": "code",
   "execution_count": 4,
   "id": "47882541",
   "metadata": {},
   "outputs": [],
   "source": [
    "from math import pi"
   ]
  },
  {
   "cell_type": "code",
   "execution_count": 7,
   "id": "e353e446",
   "metadata": {},
   "outputs": [
    {
     "name": "stdout",
     "output_type": "stream",
     "text": [
      "enter the radius of circle4\n",
      "the area of circle:  50.26548245743669\n"
     ]
    }
   ],
   "source": [
    "r=int(input(\"enter the radius of circle\"))\n",
    "area=pi*(r**2)\n",
    "print(\"the area of circle: \",area)"
   ]
  },
  {
   "cell_type": "markdown",
   "id": "dc7dddb6",
   "metadata": {},
   "source": [
    "## 3-Write a Python program that accepts the user's first and last name and prints them in reverse order with a space between them"
   ]
  },
  {
   "cell_type": "code",
   "execution_count": 8,
   "id": "7be96874",
   "metadata": {},
   "outputs": [
    {
     "name": "stdout",
     "output_type": "stream",
     "text": [
      "enter your first name: Lincoln\n",
      "enter your lastname: Abraham\n",
      "reversed name:  Abraham Lincoln\n"
     ]
    }
   ],
   "source": [
    "first_name=input(\"enter your first name: \")\n",
    "last_name=input(\"enter your lastname: \")\n",
    "print(\"reversed name: \",last_name,first_name)"
   ]
  },
  {
   "cell_type": "markdown",
   "id": "08c81eb0",
   "metadata": {},
   "source": [
    "## 4.Write a Python program that accepts a sequence of comma-separated numbers from the user and generates a list and a tuple of those numbers"
   ]
  },
  {
   "cell_type": "code",
   "execution_count": 11,
   "id": "14fe80d7",
   "metadata": {},
   "outputs": [
    {
     "name": "stdout",
     "output_type": "stream",
     "text": [
      "enter comma-separated numbers: 2,4,6\n"
     ]
    },
    {
     "ename": "NameError",
     "evalue": "name 'number_list' is not defined",
     "output_type": "error",
     "traceback": [
      "\u001b[1;31m---------------------------------------------------------------------------\u001b[0m",
      "\u001b[1;31mNameError\u001b[0m                                 Traceback (most recent call last)",
      "Cell \u001b[1;32mIn[11], line 2\u001b[0m\n\u001b[0;32m      1\u001b[0m num\u001b[38;5;241m=\u001b[39m\u001b[38;5;28minput\u001b[39m(\u001b[38;5;124m\"\u001b[39m\u001b[38;5;124menter comma-separated numbers: \u001b[39m\u001b[38;5;124m\"\u001b[39m)\n\u001b[1;32m----> 2\u001b[0m number_list\u001b[38;5;241m=\u001b[39m[\u001b[38;5;28mint\u001b[39m(num) \u001b[38;5;28;01mfor\u001b[39;00m num \u001b[38;5;129;01min\u001b[39;00m \u001b[43mnumber_list\u001b[49m]\n\u001b[0;32m      3\u001b[0m tuple_list\u001b[38;5;241m=\u001b[39m\u001b[38;5;28mtuple\u001b[39m(number_list)\n\u001b[0;32m      4\u001b[0m \u001b[38;5;28mprint\u001b[39m(number_list)\n",
      "\u001b[1;31mNameError\u001b[0m: name 'number_list' is not defined"
     ]
    }
   ],
   "source": [
    "num=input(\"enter comma-separated numbers: \")\n",
    "number_list=[int(num) for num in number_list]\n",
    "tuple_list=tuple(number_list)\n",
    "print(number_list)\n",
    "print(tuple_list)"
   ]
  },
  {
   "cell_type": "markdown",
   "id": "498131c1",
   "metadata": {},
   "source": [
    "## 5.Write a Python program that accepts a filename from the user and prints the extension of the file."
   ]
  },
  {
   "cell_type": "code",
   "execution_count": 10,
   "id": "52751b38",
   "metadata": {},
   "outputs": [
    {
     "name": "stdout",
     "output_type": "stream",
     "text": [
      "enter the filename: www.cu.in\n",
      "The extension of the file:  in\n"
     ]
    }
   ],
   "source": [
    "file_name=input(\"enter the filename: \")\n",
    "extension=file_name.split(\".\")\n",
    "print(\"The extension of the file: \",extension[-1])"
   ]
  },
  {
   "cell_type": "code",
   "execution_count": 29,
   "id": "f4c05494",
   "metadata": {},
   "outputs": [
    {
     "name": "stdout",
     "output_type": "stream",
     "text": [
      "enter the filename: Beginning with Python .ipynb\n",
      "The extension of the file:  ipynb\n"
     ]
    }
   ],
   "source": [
    "file_name=input(\"enter the filename: \")\n",
    "extension=file_name.split(\".\")\n",
    "print(\"The extension of the file: \",extension[-1])"
   ]
  },
  {
   "cell_type": "markdown",
   "id": "ed4e26ae",
   "metadata": {},
   "source": [
    "## 6- Write a Python program to display the first and last colors from the following list.\n",
    "color_list = [\"Red\",\"Green\",\"White\" ,\"Black\"]"
   ]
  },
  {
   "cell_type": "code",
   "execution_count": 10,
   "id": "2c5498c3",
   "metadata": {},
   "outputs": [
    {
     "data": {
      "text/plain": [
       "['Red', 'Black']"
      ]
     },
     "execution_count": 10,
     "metadata": {},
     "output_type": "execute_result"
    }
   ],
   "source": [
    "color_list = [\"Red\",\"Green\",\"White\" ,\"Black\"]\n",
    "color_list[0:4:3]"
   ]
  },
  {
   "cell_type": "markdown",
   "id": "a75d732b",
   "metadata": {},
   "source": [
    "## 7-Write a Python program that accepts an integer (n) and computes the value of n+nn+nnn?2+22+222?"
   ]
  },
  {
   "cell_type": "code",
   "execution_count": 1,
   "id": "8c90de15",
   "metadata": {},
   "outputs": [
    {
     "name": "stdout",
     "output_type": "stream",
     "text": [
      "enter an single digit number: 2\n",
      "12\n"
     ]
    }
   ],
   "source": [
    "n=int(input(\"enter an single digit number: \"))\n",
    "nn=n+n\n",
    "nnn=n+n+n\n",
    "sum=int(n)+int(nn)+int(nnn)\n",
    "print(sum)\n",
    "    "
   ]
  },
  {
   "cell_type": "markdown",
   "id": "eda09966",
   "metadata": {},
   "source": [
    "## 8-Write a Python program that prints the calendar for a given month and year."
   ]
  },
  {
   "cell_type": "code",
   "execution_count": 15,
   "id": "33d5ce5e",
   "metadata": {},
   "outputs": [],
   "source": [
    "import calendar"
   ]
  },
  {
   "cell_type": "code",
   "execution_count": 16,
   "id": "625993a7",
   "metadata": {},
   "outputs": [],
   "source": [
    "def month_year(month,year):\n",
    "    month=int(input(\"enter the month: \"))\n",
    "    year=int(input(\"enter the year: \"))\n",
    "    mnth_yr=(calendar.month(month,year))\n",
    "    return mnth_yr"
   ]
  },
  {
   "cell_type": "code",
   "execution_count": 17,
   "id": "883dcfe2",
   "metadata": {},
   "outputs": [
    {
     "name": "stdout",
     "output_type": "stream",
     "text": [
      "     July 2023\n",
      "Mo Tu We Th Fr Sa Su\n",
      "                1  2\n",
      " 3  4  5  6  7  8  9\n",
      "10 11 12 13 14 15 16\n",
      "17 18 19 20 21 22 23\n",
      "24 25 26 27 28 29 30\n",
      "31\n",
      "\n"
     ]
    }
   ],
   "source": [
    "print(calendar.month(2023,7))"
   ]
  },
  {
   "cell_type": "markdown",
   "id": "c198e0a8",
   "metadata": {},
   "source": [
    "## 9-Write a Python program to calculate the number of days between two dates"
   ]
  },
  {
   "cell_type": "code",
   "execution_count": 23,
   "id": "29cdf4f9",
   "metadata": {},
   "outputs": [
    {
     "ename": "SyntaxError",
     "evalue": "invalid syntax (1515111040.py, line 1)",
     "output_type": "error",
     "traceback": [
      "\u001b[1;36m  Cell \u001b[1;32mIn[23], line 1\u001b[1;36m\u001b[0m\n\u001b[1;33m    diff.(6,2)\u001b[0m\n\u001b[1;37m         ^\u001b[0m\n\u001b[1;31mSyntaxError\u001b[0m\u001b[1;31m:\u001b[0m invalid syntax\n"
     ]
    }
   ],
   "source": [
    "diff.(6,2)"
   ]
  },
  {
   "cell_type": "markdown",
   "id": "17d743a8",
   "metadata": {},
   "source": [
    "## 10-Write a Python program to get the volume of a sphere with radius 6.?"
   ]
  },
  {
   "cell_type": "code",
   "execution_count": 30,
   "id": "117b5b57",
   "metadata": {},
   "outputs": [
    {
     "name": "stdout",
     "output_type": "stream",
     "text": [
      "the volume of a sphere with radius 6 is:  904.7786842338603\n"
     ]
    }
   ],
   "source": [
    "from math import pi\n",
    "r=6\n",
    "volume = (4/3)*(pi)*(r**3)\n",
    "print(\"the volume of a sphere with radius 6 is: \",volume)"
   ]
  },
  {
   "cell_type": "markdown",
   "id": "4f259144",
   "metadata": {},
   "source": [
    "## 11-.Write a Python program to calculate the difference between a given number and 17. If the number is greater than 17, return twice the absolute difference by using function?"
   ]
  },
  {
   "cell_type": "code",
   "execution_count": 7,
   "id": "96d5b6ff",
   "metadata": {},
   "outputs": [
    {
     "name": "stdout",
     "output_type": "stream",
     "text": [
      "enter a number: 120\n",
      "206\n"
     ]
    }
   ],
   "source": [
    "num=int(input(\"enter a number: \"))\n",
    "diff=num-17\n",
    "if diff>17:\n",
    "    print(diff*2)\n",
    "else:\n",
    "    print(\"not valid\")"
   ]
  },
  {
   "cell_type": "code",
   "execution_count": 8,
   "id": "0b516e74",
   "metadata": {},
   "outputs": [
    {
     "name": "stdout",
     "output_type": "stream",
     "text": [
      "enter a number: 15\n",
      "not valid\n"
     ]
    }
   ],
   "source": [
    "num=int(input(\"enter a number: \"))\n",
    "diff=num-17\n",
    "if diff>17:\n",
    "    print(diff*2)\n",
    "else:\n",
    "    print(\"not valid\")"
   ]
  },
  {
   "cell_type": "markdown",
   "id": "a4a680e7",
   "metadata": {},
   "source": [
    "## 12-Write a Python program to calculate the sum of three given numbers. If the values are equal, return three times their sum"
   ]
  },
  {
   "cell_type": "code",
   "execution_count": 3,
   "id": "5ed47ee9",
   "metadata": {},
   "outputs": [],
   "source": [
    "def sum_thrice(x,y,z):\n",
    "    sum=x+y+z\n",
    "    if x==y==z:\n",
    "        return sum*3"
   ]
  },
  {
   "cell_type": "code",
   "execution_count": 4,
   "id": "875baa9c",
   "metadata": {},
   "outputs": [],
   "source": [
    "sum_thrice(2,4,6)"
   ]
  },
  {
   "cell_type": "code",
   "execution_count": 23,
   "id": "a337432e",
   "metadata": {},
   "outputs": [
    {
     "name": "stdout",
     "output_type": "stream",
     "text": [
      "enter a number: 2\n",
      "enter a number: 2\n",
      "enter a number: 2\n"
     ]
    }
   ],
   "source": [
    "a=int(input(\"enter a number: \"))\n",
    "b=int(input(\"enter a number: \"))\n",
    "c=int(input(\"enter a number: \"))\n",
    "def sum(a,b,c):\n",
    "    if a==b and a==c:\n",
    "        return (sum*3)\n",
    "    else:\n",
    "        print(\"values are not equa,sum: \",a,b,c)"
   ]
  },
  {
   "cell_type": "markdown",
   "id": "9db126a9",
   "metadata": {},
   "source": [
    "## 13-Write a Python program to get a newly-generated string from a given string where \"Is\" has been added to the front. Return the string unchanged if the given string already begins with \"Is\""
   ]
  },
  {
   "cell_type": "code",
   "execution_count": null,
   "id": "2827c0d8",
   "metadata": {},
   "outputs": [],
   "source": [
    "strr=input(\"enter a word: \")\n",
    "def wish(strr):\n",
    "    if strr.startswith(\"Is\"):\n",
    "        return strr\n",
    "    else:\n",
    "        return strr.append(\"Is\"+strr)\n",
    "    "
   ]
  },
  {
   "cell_type": "code",
   "execution_count": null,
   "id": "e46c775f",
   "metadata": {},
   "outputs": [],
   "source": []
  },
  {
   "cell_type": "code",
   "execution_count": null,
   "id": "0678a396",
   "metadata": {},
   "outputs": [],
   "source": []
  },
  {
   "cell_type": "code",
   "execution_count": null,
   "id": "330a615b",
   "metadata": {},
   "outputs": [],
   "source": []
  },
  {
   "cell_type": "code",
   "execution_count": null,
   "id": "f8d5bf15",
   "metadata": {},
   "outputs": [],
   "source": []
  },
  {
   "cell_type": "code",
   "execution_count": null,
   "id": "305fed08",
   "metadata": {},
   "outputs": [],
   "source": []
  }
 ],
 "metadata": {
  "kernelspec": {
   "display_name": "Python 3 (ipykernel)",
   "language": "python",
   "name": "python3"
  },
  "language_info": {
   "codemirror_mode": {
    "name": "ipython",
    "version": 3
   },
   "file_extension": ".py",
   "mimetype": "text/x-python",
   "name": "python",
   "nbconvert_exporter": "python",
   "pygments_lexer": "ipython3",
   "version": "3.10.9"
  }
 },
 "nbformat": 4,
 "nbformat_minor": 5
}
