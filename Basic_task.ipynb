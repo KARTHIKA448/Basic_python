{
 "cells": [
  {
   "cell_type": "markdown",
   "id": "701c09a7",
   "metadata": {},
   "source": [
    "1.Find the Reverse l=[10, 11, 12, 13, 14, 15]."
   ]
  },
  {
   "cell_type": "code",
   "execution_count": 9,
   "id": "20d32153",
   "metadata": {},
   "outputs": [
    {
     "data": {
      "text/plain": [
       "[15, 14, 13, 12, 11, 10]"
      ]
     },
     "execution_count": 9,
     "metadata": {},
     "output_type": "execute_result"
    }
   ],
   "source": [
    "l=[10, 11, 12, 13, 14, 15]\n",
    "l.reverse()\n",
    "l"
   ]
  },
  {
   "cell_type": "markdown",
   "id": "54ba18c1",
   "metadata": {},
   "source": [
    "2.Turn every item of a list into its square,numbers = [1, 2, 3, 4, 5, 6, 7]."
   ]
  },
  {
   "cell_type": "code",
   "execution_count": 10,
   "id": "d67d68d8",
   "metadata": {},
   "outputs": [
    {
     "name": "stdout",
     "output_type": "stream",
     "text": [
      "[1, 4, 9, 16, 25, 36, 49]\n"
     ]
    }
   ],
   "source": [
    "numbers = [1, 2, 3, 4, 5, 6, 7]\n",
    "new_num=[]\n",
    "for num in numbers:\n",
    "    new_num.append(num**2)\n",
    "print(new_num)"
   ]
  },
  {
   "cell_type": "markdown",
   "id": "2aab6d5a",
   "metadata": {},
   "source": [
    "3. Concatenate two lists in the following order\n",
    "list1 = [\"Hello \", \"take \"]\n",
    "list2 = [\"Dear\", \"Sir\"]"
   ]
  },
  {
   "cell_type": "code",
   "execution_count": 11,
   "id": "c5f45e21",
   "metadata": {},
   "outputs": [
    {
     "data": {
      "text/plain": [
       "['Hello ', 'take ', 'Dear', 'Sir']"
      ]
     },
     "execution_count": 11,
     "metadata": {},
     "output_type": "execute_result"
    }
   ],
   "source": [
    "list1 = [\"Hello \", \"take \"]\n",
    "list2 = [\"Dear\", \"Sir\"]\n",
    "list1+list2"
   ]
  },
  {
   "cell_type": "markdown",
   "id": "8bd30b9f",
   "metadata": {},
   "source": [
    "4.Remove empty strings from the list of strings\n",
    "list1 = [\"Mike\", \"\", \"Emma\", \"Kelly\", \"\", \"Brad\"]"
   ]
  },
  {
   "cell_type": "code",
   "execution_count": 12,
   "id": "f5695248",
   "metadata": {},
   "outputs": [
    {
     "data": {
      "text/plain": [
       "['Mike', 'Emma', 'Kelly', 'Brad']"
      ]
     },
     "execution_count": 12,
     "metadata": {},
     "output_type": "execute_result"
    }
   ],
   "source": [
    "list1 = [\"Mike\", \"\", \"Emma\", \"Kelly\", \"\", \"Brad\"]\n",
    "list1.remove(\"\")\n",
    "list1.remove(\"\")\n",
    "list1"
   ]
  },
  {
   "cell_type": "markdown",
   "id": "ce515d9d",
   "metadata": {},
   "source": [
    "5.Write a program to add item 7000 after 6000 in the following Python List\n",
    "Given:\n",
    "list1 = [10, 20, [300, 400, [5000, 6000], 500], 30, 40]"
   ]
  },
  {
   "cell_type": "code",
   "execution_count": 13,
   "id": "0d89adab",
   "metadata": {},
   "outputs": [
    {
     "data": {
      "text/plain": [
       "'Kelly'"
      ]
     },
     "execution_count": 13,
     "metadata": {},
     "output_type": "execute_result"
    }
   ],
   "source": [
    "list1[2]"
   ]
  },
  {
   "cell_type": "code",
   "execution_count": 14,
   "id": "06250d49",
   "metadata": {},
   "outputs": [
    {
     "data": {
      "text/plain": [
       "'e'"
      ]
     },
     "execution_count": 14,
     "metadata": {},
     "output_type": "execute_result"
    }
   ],
   "source": [
    "list1[2][1]"
   ]
  },
  {
   "cell_type": "code",
   "execution_count": 15,
   "id": "6e3f110b",
   "metadata": {},
   "outputs": [
    {
     "data": {
      "text/plain": [
       "'l'"
      ]
     },
     "execution_count": 15,
     "metadata": {},
     "output_type": "execute_result"
    }
   ],
   "source": [
    "list1[2][2]"
   ]
  },
  {
   "cell_type": "code",
   "execution_count": 16,
   "id": "2a24a7dc",
   "metadata": {},
   "outputs": [
    {
     "data": {
      "text/plain": [
       "[10, 20, [300, 400, [5000, 6000, 7000], 500], 30, 40]"
      ]
     },
     "execution_count": 16,
     "metadata": {},
     "output_type": "execute_result"
    }
   ],
   "source": [
    "list1 = [10, 20, [300, 400, [5000, 6000], 500], 30, 40]\n",
    "list1[2][2].append(7000)\n",
    "list1"
   ]
  },
  {
   "cell_type": "markdown",
   "id": "a2e9d89e",
   "metadata": {},
   "source": [
    "6. Turn every item of a list into its square,numbers = [1, 2, 3, 4, 5, 6, 7]."
   ]
  },
  {
   "cell_type": "code",
   "execution_count": 17,
   "id": "42e99df5",
   "metadata": {},
   "outputs": [
    {
     "name": "stdout",
     "output_type": "stream",
     "text": [
      "[1, 4, 9, 16, 25, 36, 49]\n"
     ]
    }
   ],
   "source": [
    "numbers = [1, 2, 3, 4, 5, 6, 7]\n",
    "new_num=[]\n",
    "for num in numbers:\n",
    "    new_num.append(num**2)\n",
    "print(new_num)"
   ]
  },
  {
   "cell_type": "markdown",
   "id": "3f13de7e",
   "metadata": {},
   "source": [
    "7.Given a list of numbers, write a Python program to print all even numbers in the given list. a = [2, 7, 5, 64, 14]."
   ]
  },
  {
   "cell_type": "code",
   "execution_count": 18,
   "id": "f116b969",
   "metadata": {},
   "outputs": [
    {
     "name": "stdout",
     "output_type": "stream",
     "text": [
      "[2, 64, 14]\n"
     ]
    }
   ],
   "source": [
    "a=[2,7,5,64,14]\n",
    "new_a=[]\n",
    "for num in a:\n",
    "    if num%2==0:\n",
    "        new_a.append(num)\n",
    "print(new_a)"
   ]
  },
  {
   "cell_type": "markdown",
   "id": "c88b8011",
   "metadata": {},
   "source": [
    "8.Given a list of numbers, write a Python program to print all odd numbers in given list.b = [2, 7, 5, 64, 14]"
   ]
  },
  {
   "cell_type": "code",
   "execution_count": 19,
   "id": "621567a4",
   "metadata": {},
   "outputs": [
    {
     "name": "stdout",
     "output_type": "stream",
     "text": [
      "[7, 5]\n"
     ]
    }
   ],
   "source": [
    "b = [2, 7, 5, 64, 14]\n",
    "new_b=[]\n",
    "for num in b:\n",
    "    if num%2!=0:\n",
    "        new_b.append(num)\n",
    "print(new_b)"
   ]
  },
  {
   "cell_type": "markdown",
   "id": "f376115b",
   "metadata": {},
   "source": [
    "9. Write a program to check whether a number entered by user is even or odd."
   ]
  },
  {
   "cell_type": "code",
   "execution_count": 20,
   "id": "93d5de95",
   "metadata": {},
   "outputs": [
    {
     "name": "stdout",
     "output_type": "stream",
     "text": [
      "enter the number3\n",
      "odd\n"
     ]
    }
   ],
   "source": [
    "x=int(input(\"enter the number\"))\n",
    "if x%2==0:\n",
    "    print(\"even\")\n",
    "else:\n",
    "     print(\"odd\")"
   ]
  },
  {
   "cell_type": "code",
   "execution_count": 21,
   "id": "89b69ed0",
   "metadata": {},
   "outputs": [
    {
     "name": "stdout",
     "output_type": "stream",
     "text": [
      "enter the number2\n",
      "even\n"
     ]
    }
   ],
   "source": [
    "x=int(input(\"enter the number\"))\n",
    "if x%2==0:\n",
    "    print(\"even\")\n",
    "else:\n",
    "     print(\"odd\")"
   ]
  },
  {
   "cell_type": "markdown",
   "id": "5cbb2907",
   "metadata": {},
   "source": [
    "10. Write a program to check whether a person is eligible for voting or not. (accept age from user)"
   ]
  },
  {
   "cell_type": "code",
   "execution_count": 22,
   "id": "eddce4a9",
   "metadata": {},
   "outputs": [
    {
     "name": "stdout",
     "output_type": "stream",
     "text": [
      "enter the age: 18\n",
      "you are eligible for voting\n"
     ]
    }
   ],
   "source": [
    "age=int(input(\"enter the age: \"))\n",
    "\n",
    "if age>=18:\n",
    "        print(\"you are eligible for voting\")\n",
    "else:\n",
    "    print(\"you not are eligible for voting\")"
   ]
  },
  {
   "cell_type": "markdown",
   "id": "1e45b661",
   "metadata": {},
   "source": [
    "11. Write a program to check whether a number is divisible by 7 or not."
   ]
  },
  {
   "cell_type": "code",
   "execution_count": 23,
   "id": "47beaa40",
   "metadata": {},
   "outputs": [
    {
     "name": "stdout",
     "output_type": "stream",
     "text": [
      "enter a number: 21\n",
      "the number is divisible by 7\n"
     ]
    }
   ],
   "source": [
    "num=int(input(\"enter a number: \"))\n",
    "\n",
    "if num%7==0:\n",
    "    print(\"the number is divisible by 7\")\n",
    "else:\n",
    "    print(\"the number is not divisible by 7\")"
   ]
  },
  {
   "cell_type": "markdown",
   "id": "a732a539",
   "metadata": {},
   "source": [
    "12. Write a program to display \"Hello\" if a number entered by user is a multiple of five, otherwise print \"Bye\"."
   ]
  },
  {
   "cell_type": "code",
   "execution_count": 24,
   "id": "24cd39f5",
   "metadata": {},
   "outputs": [
    {
     "name": "stdout",
     "output_type": "stream",
     "text": [
      "enter the number: 50\n",
      "Hello\n"
     ]
    }
   ],
   "source": [
    "x=int(input(\"enter the number: \"))\n",
    "ld=x%10\n",
    "if ld%5==0:\n",
    "    print(\"Hello\")\n",
    "else:\n",
    "    print(\"Bye\")"
   ]
  },
  {
   "cell_type": "markdown",
   "id": "e1233943",
   "metadata": {},
   "source": [
    "\n",
    "\n",
    "13.Write multiple programs which illustrates iteration through various data structures which you learned till now?"
   ]
  },
  {
   "cell_type": "code",
   "execution_count": 1,
   "id": "61563d2a",
   "metadata": {},
   "outputs": [
    {
     "name": "stdout",
     "output_type": "stream",
     "text": [
      "enter a word:  Pneumonoultramicroscopicsilicovolcanoconiosis\n",
      "[3]\n",
      "['e']\n"
     ]
    }
   ],
   "source": [
    "name=input(\"enter a word: \")\n",
    "listwithIdx=[]\n",
    "listwithletter=[]\n",
    "for z in range(len(name)):\n",
    "    if name[z]==\"e\":\n",
    "        listwithIdx.append(z)\n",
    "        listwithletter.append(name[z])\n",
    "print(listwithIdx,listwithletter,sep='\\n')\n"
   ]
  },
  {
   "cell_type": "code",
   "execution_count": 2,
   "id": "ac2b28e2",
   "metadata": {},
   "outputs": [
    {
     "name": "stdout",
     "output_type": "stream",
     "text": [
      "0\n",
      "3\n",
      "6\n",
      "9\n",
      "12\n",
      "15\n",
      "18\n",
      "21\n",
      "24\n",
      "27\n",
      "30\n",
      "33\n",
      "36\n",
      "39\n",
      "42\n",
      "45\n",
      "48\n"
     ]
    }
   ],
   "source": [
    "for i in range(0,50,3):\n",
    "    print(i)"
   ]
  },
  {
   "cell_type": "code",
   "execution_count": 3,
   "id": "cb38a8ed",
   "metadata": {},
   "outputs": [
    {
     "name": "stdout",
     "output_type": "stream",
     "text": [
      "enter your age: 34\n",
      "you can enter\n"
     ]
    }
   ],
   "source": [
    "age=int(input(\"enter your age: \"))\n",
    "if age<=70:\n",
    "    print(\"you can enter\")\n",
    "else:\n",
    "      print(\"you cannot enter\")"
   ]
  },
  {
   "cell_type": "markdown",
   "id": "34d4a66d",
   "metadata": {},
   "source": [
    "14.Receive an input text from the user and print all letters except ‘e’ and ‘s’ by using for loop?"
   ]
  },
  {
   "cell_type": "code",
   "execution_count": 4,
   "id": "1971f5c3",
   "metadata": {},
   "outputs": [
    {
     "name": "stdout",
     "output_type": "stream",
     "text": [
      "enter a word:  Pneumonoultramicroscopicsilicovolcanoconiosis\n",
      " \n",
      "P\n",
      "n\n",
      "u\n",
      "m\n",
      "o\n",
      "n\n",
      "o\n",
      "u\n",
      "l\n",
      "t\n",
      "r\n",
      "a\n",
      "m\n",
      "i\n",
      "c\n",
      "r\n",
      "o\n",
      "c\n",
      "o\n",
      "p\n",
      "i\n",
      "c\n",
      "i\n",
      "l\n",
      "i\n",
      "c\n",
      "o\n",
      "v\n",
      "o\n",
      "l\n",
      "c\n",
      "a\n",
      "n\n",
      "o\n",
      "c\n",
      "o\n",
      "n\n",
      "i\n",
      "o\n",
      "i\n"
     ]
    }
   ],
   "source": [
    "name=input(\"enter a word: \")\n",
    "for z in name:\n",
    "    if z==\"e\":\n",
    "        continue\n",
    "    elif z==\"s\":\n",
    "        continue\n",
    "    print(z)"
   ]
  },
  {
   "cell_type": "markdown",
   "id": "6e352ace",
   "metadata": {},
   "source": [
    "or"
   ]
  },
  {
   "cell_type": "code",
   "execution_count": 5,
   "id": "884cda56",
   "metadata": {},
   "outputs": [
    {
     "name": "stdout",
     "output_type": "stream",
     "text": [
      "enter a word: Pneumonoultramicroscopicsilicovolcanoconiosis\n",
      "Pnumonoultramicrocopicilicovolcanoconioi\n"
     ]
    }
   ],
   "source": [
    "name=input(\"enter a word: \")\n",
    "out=\"\"\n",
    "for z in name:\n",
    "    if z==\"e\" or z==\"s\":\n",
    "        continue\n",
    "    out=out+z\n",
    "print(out)"
   ]
  },
  {
   "cell_type": "markdown",
   "id": "4db370a4",
   "metadata": {},
   "source": [
    "15.Return sum of first n numbers with the help of for loop and range function?"
   ]
  },
  {
   "cell_type": "code",
   "execution_count": 6,
   "id": "995a5a0c",
   "metadata": {},
   "outputs": [
    {
     "name": "stdout",
     "output_type": "stream",
     "text": [
      "enter a number: 33\n",
      "561\n"
     ]
    }
   ],
   "source": [
    "number=int(input(\"enter a number: \"))\n",
    "out=0\n",
    "for n in range(number+1):\n",
    "    out=out+n\n",
    "print(out)"
   ]
  },
  {
   "cell_type": "code",
   "execution_count": 7,
   "id": "17d98159",
   "metadata": {},
   "outputs": [
    {
     "name": "stdout",
     "output_type": "stream",
     "text": [
      "enter a number: 44\n",
      "990\n"
     ]
    }
   ],
   "source": [
    "number=int(input(\"enter a number: \"))\n",
    "out=0\n",
    "for n in range(number+1):\n",
    "    out=out+n\n",
    "print(out)"
   ]
  },
  {
   "cell_type": "markdown",
   "id": "4ea30f32",
   "metadata": {},
   "source": [
    "16.Accept a number from the user and return Sum of all natural numbers that are multiples of 5,7 less than the number entered by the user.Eg:Input:20 -5,7,10,14,15 and sum=51?"
   ]
  },
  {
   "cell_type": "code",
   "execution_count": 8,
   "id": "14c6a926",
   "metadata": {},
   "outputs": [
    {
     "name": "stdout",
     "output_type": "stream",
     "text": [
      "enter a number: 20\n",
      "sum ofmultiples of 5 and 7 is:  51\n"
     ]
    }
   ],
   "source": [
    "num=int(input(\"enter a number: \"))\n",
    "out=0\n",
    "multiple5and7=[]\n",
    "summation=[]\n",
    "for n in range(num):\n",
    "    if  n%5==0 or n%7==0:\n",
    "        out=out+n\n",
    "    \n",
    "print(\"sum ofmultiples of 5 and 7 is: \",out )\n",
    "        "
   ]
  },
  {
   "cell_type": "markdown",
   "id": "11c76ad9",
   "metadata": {},
   "source": [
    "17.Write a program to calculate the electricity bill (accept number of unit from user) according to the following criteria :\n",
    "     Unit                                                          Price  \n",
    " First 100 units                                                 no charge\n",
    " Next 100 units                                                  Rs 5 per unit\n",
    " After 200 units                                                 Rs 10 per unit\n",
    "(For example if input unit is 350 than total bill amount is Rs2000)"
   ]
  },
  {
   "cell_type": "code",
   "execution_count": 25,
   "id": "7d405b95",
   "metadata": {},
   "outputs": [
    {
     "name": "stdout",
     "output_type": "stream",
     "text": [
      "enter number of units? 100\n",
      "total amount to pay 0\n"
     ]
    }
   ],
   "source": [
    "amt=0\n",
    "num=int(input(\"enter number of units? \"))\n",
    "if num<=100:\n",
    "    amt=0\n",
    "elif num>100 and num<=200:\n",
    "    amt=(num-100)*5\n",
    "elif num>200:\n",
    "    amt=(num-200)*10\n",
    "else:\n",
    "    print(\"enter a valid unit\")\n",
    "print(\"total amount to pay\",amt)"
   ]
  },
  {
   "cell_type": "markdown",
   "id": "52157016",
   "metadata": {},
   "source": [
    "18. Write a program to display the last digit of a number.(hint : any number % 10 will return the last digit)"
   ]
  },
  {
   "cell_type": "code",
   "execution_count": 27,
   "id": "a4f1a782",
   "metadata": {},
   "outputs": [
    {
     "name": "stdout",
     "output_type": "stream",
     "text": [
      "enter the number: 30\n",
      "last digit of number 0\n"
     ]
    }
   ],
   "source": [
    "num=int(input(\"enter the number: \"))\n",
    "ld=num%10\n",
    "print(\"last digit of number\",ld)"
   ]
  },
  {
   "cell_type": "markdown",
   "id": "d0911e1f",
   "metadata": {},
   "source": [
    "19. Write a program to check whether the last digit of a number( entered by user ) is divisible by 3 or not."
   ]
  },
  {
   "cell_type": "code",
   "execution_count": 28,
   "id": "77b4df57",
   "metadata": {},
   "outputs": [
    {
     "name": "stdout",
     "output_type": "stream",
     "text": [
      "enter a number: 69\n",
      "the number is divisible by 3\n"
     ]
    }
   ],
   "source": [
    "num=int(input(\"enter a number: \"))\n",
    "ld=num%10\n",
    "if ld%3==0:\n",
    "    print(\"the number is divisible by 3\")\n",
    "else:\n",
    "    print(\"the number is not divisible by 3\")"
   ]
  },
  {
   "cell_type": "markdown",
   "id": "389da5a0",
   "metadata": {},
   "source": [
    "20. Write a program to check whether a number (accepted from user) is positive or negative."
   ]
  },
  {
   "cell_type": "code",
   "execution_count": 31,
   "id": "db70c460",
   "metadata": {},
   "outputs": [
    {
     "name": "stdout",
     "output_type": "stream",
     "text": [
      "enter the number: 4\n",
      "The given number is positive\n"
     ]
    }
   ],
   "source": [
    "number=int(input(\"enter the number: \"))\n",
    "if number>=0:\n",
    "    print(\"The given number is positive\")\n",
    "else:\n",
    "    print(\"The given number is negative\")"
   ]
  },
  {
   "cell_type": "markdown",
   "id": "b93d1d58",
   "metadata": {},
   "source": [
    "21.find the square root"
   ]
  },
  {
   "cell_type": "code",
   "execution_count": 1,
   "id": "21adb421",
   "metadata": {},
   "outputs": [
    {
     "name": "stdout",
     "output_type": "stream",
     "text": [
      "enter a number: 25\n",
      "square of given number:  5.0\n"
     ]
    }
   ],
   "source": [
    "num=int(input(\"enter a number: \"))\n",
    "sq_root=num**0.5\n",
    "print(\"square of given number: \",sq_root)\n"
   ]
  },
  {
   "cell_type": "markdown",
   "id": "a5c512c2",
   "metadata": {},
   "source": [
    "22.to calculate area of a triangle"
   ]
  },
  {
   "cell_type": "code",
   "execution_count": 2,
   "id": "4f8d19ec",
   "metadata": {},
   "outputs": [
    {
     "name": "stdout",
     "output_type": "stream",
     "text": [
      "enter the base: 4\n",
      "enter the height: 6\n",
      "area of triangle:  12.0\n"
     ]
    }
   ],
   "source": [
    "base=int(input(\"enter the base: \"))\n",
    "height=int(input(\"enter the height: \"))\n",
    "area=0.5*base*height\n",
    "print(\"area of triangle: \",area)"
   ]
  },
  {
   "cell_type": "markdown",
   "id": "ad896697",
   "metadata": {},
   "source": [
    "23.to solve quadratic equation"
   ]
  },
  {
   "cell_type": "code",
   "execution_count": 3,
   "id": "47a1e587",
   "metadata": {},
   "outputs": [
    {
     "name": "stdout",
     "output_type": "stream",
     "text": [
      "enter the coeffient of x^2: 3\n",
      "enter the coeffient of x : 4\n",
      "enter the constant: 5\n",
      "-20.0\n",
      "18.0\n"
     ]
    }
   ],
   "source": [
    "a=int(input(\"enter the coeffient of x^2: \"))\n",
    "b=int(input(\"enter the coeffient of x : \"))\n",
    "c=int(input(\"enter the constant: \"))\n",
    "def sol_1(a,b,c):\n",
    "    return ((-b+(b**2-4*a*b*c)**1/2)//(2*a))\n",
    "def sol_2(a,b,c):\n",
    "    return ((-b-(b**2-4*a*b*c)**1/2)//(2*a))\n",
    "print(sol_1(3,4,5))\n",
    "print(sol_2(3,4,5))    "
   ]
  },
  {
   "cell_type": "code",
   "execution_count": null,
   "id": "a20a58ec",
   "metadata": {},
   "outputs": [],
   "source": []
  }
 ],
 "metadata": {
  "kernelspec": {
   "display_name": "Python 3 (ipykernel)",
   "language": "python",
   "name": "python3"
  },
  "language_info": {
   "codemirror_mode": {
    "name": "ipython",
    "version": 3
   },
   "file_extension": ".py",
   "mimetype": "text/x-python",
   "name": "python",
   "nbconvert_exporter": "python",
   "pygments_lexer": "ipython3",
   "version": "3.10.9"
  }
 },
 "nbformat": 4,
 "nbformat_minor": 5
}
