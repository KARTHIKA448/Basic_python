{
 "cells": [
  {
   "cell_type": "markdown",
   "id": "e22d57b7",
   "metadata": {},
   "source": [
    "# problems"
   ]
  },
  {
   "cell_type": "markdown",
   "id": "fed3a6fd",
   "metadata": {},
   "source": [
    "## 3.find the square root"
   ]
  },
  {
   "cell_type": "code",
   "execution_count": 21,
   "id": "10e08b0c",
   "metadata": {},
   "outputs": [
    {
     "name": "stdout",
     "output_type": "stream",
     "text": [
      "enter a number: 25\n",
      "square of given number:  5.0\n"
     ]
    }
   ],
   "source": [
    "num=int(input(\"enter a number: \"))\n",
    "sq_root=num**0.5\n",
    "print(\"square of given number: \",sq_root)\n"
   ]
  },
  {
   "cell_type": "code",
   "execution_count": 28,
   "id": "037cf2b1",
   "metadata": {},
   "outputs": [],
   "source": [
    "\n",
    "def sq_rt(num):\n",
    "    return num**0.5\n"
   ]
  },
  {
   "cell_type": "code",
   "execution_count": 29,
   "id": "ae3f2779",
   "metadata": {},
   "outputs": [
    {
     "data": {
      "text/plain": [
       "9.0"
      ]
     },
     "execution_count": 29,
     "metadata": {},
     "output_type": "execute_result"
    }
   ],
   "source": [
    " sq_rt(81)"
   ]
  },
  {
   "cell_type": "markdown",
   "id": "cd3f8de1",
   "metadata": {},
   "source": [
    "## 4.to calculate area of a triangle"
   ]
  },
  {
   "cell_type": "code",
   "execution_count": 20,
   "id": "8e7ef7c9",
   "metadata": {},
   "outputs": [
    {
     "name": "stdout",
     "output_type": "stream",
     "text": [
      "enter the base: 4\n",
      "enter the height: 6\n",
      "area of triangle:  12.0\n"
     ]
    }
   ],
   "source": [
    "base=int(input(\"enter the base: \"))\n",
    "height=int(input(\"enter the height: \"))\n",
    "area=0.5*base*height\n",
    "print(\"area of triangle: \",area)\n",
    "    \n",
    " "
   ]
  },
  {
   "cell_type": "markdown",
   "id": "e821b98a",
   "metadata": {},
   "source": [
    "## 5.to solve quadratic equation"
   ]
  },
  {
   "cell_type": "code",
   "execution_count": 35,
   "id": "c202bd28",
   "metadata": {},
   "outputs": [
    {
     "name": "stdout",
     "output_type": "stream",
     "text": [
      "enter the coeffient of x^2: 3\n",
      "enter the coeffient of x : 4\n",
      "enter the constant: 5\n",
      "-20.0\n",
      "18.0\n"
     ]
    }
   ],
   "source": [
    "a=int(input(\"enter the coeffient of x^2: \"))\n",
    "b=int(input(\"enter the coeffient of x : \"))\n",
    "c=int(input(\"enter the constant: \"))\n",
    "def sol_1(a,b,c):\n",
    "    return ((-b+(b**2-4*a*b*c)**1/2)//(2*a))\n",
    "def sol_2(a,b,c):\n",
    "    return ((-b-(b**2-4*a*b*c)**1/2)//(2*a))\n",
    "print(sol_1(3,4,5))\n",
    "print(sol_2(3,4,5))    "
   ]
  },
  {
   "cell_type": "markdown",
   "id": "28654f69",
   "metadata": {},
   "source": [
    "## 6.to Swap Two Variables"
   ]
  },
  {
   "cell_type": "code",
   "execution_count": 62,
   "id": "724a249f",
   "metadata": {},
   "outputs": [
    {
     "name": "stdout",
     "output_type": "stream",
     "text": [
      "enter a number: 2\n",
      "enter a number: 3\n"
     ]
    },
    {
     "data": {
      "text/plain": [
       "(3, 2)"
      ]
     },
     "execution_count": 62,
     "metadata": {},
     "output_type": "execute_result"
    }
   ],
   "source": [
    "a=int(input(\"enter a number: \"))\n",
    "b=int(input(\"enter a number: \"))\n",
    "swap(a,b)\n"
   ]
  },
  {
   "cell_type": "code",
   "execution_count": 66,
   "id": "e8a8a089",
   "metadata": {},
   "outputs": [],
   "source": [
    "def swp(a,b):\n",
    "    return b,a"
   ]
  },
  {
   "cell_type": "code",
   "execution_count": 67,
   "id": "bee9b3e4",
   "metadata": {},
   "outputs": [
    {
     "data": {
      "text/plain": [
       "(3, 2)"
      ]
     },
     "execution_count": 67,
     "metadata": {},
     "output_type": "execute_result"
    }
   ],
   "source": [
    "swp(2,3)"
   ]
  },
  {
   "cell_type": "markdown",
   "id": "79b276f7",
   "metadata": {},
   "source": [
    "## 7. to Generate a Random Number"
   ]
  },
  {
   "cell_type": "code",
   "execution_count": 18,
   "id": "6186680e",
   "metadata": {},
   "outputs": [
    {
     "name": "stdout",
     "output_type": "stream",
     "text": [
      "16\n"
     ]
    }
   ],
   "source": [
    "import random\n",
    "print(random.randint(1,20))"
   ]
  },
  {
   "cell_type": "code",
   "execution_count": 19,
   "id": "e5d5c7e3",
   "metadata": {},
   "outputs": [
    {
     "name": "stdout",
     "output_type": "stream",
     "text": [
      "9\n"
     ]
    }
   ],
   "source": [
    "import random\n",
    "print(random.randint(1,10))"
   ]
  },
  {
   "cell_type": "markdown",
   "id": "450af855",
   "metadata": {},
   "source": [
    "## 8.to Convert Kilometers to Miles"
   ]
  },
  {
   "cell_type": "code",
   "execution_count": 77,
   "id": "72ca0bfa",
   "metadata": {},
   "outputs": [],
   "source": [
    "def change(km):\n",
    "    miles=km*0.621371\n",
    "    return (f\"{km}km is equal to {miles}miles\")"
   ]
  },
  {
   "cell_type": "code",
   "execution_count": 78,
   "id": "023de4a8",
   "metadata": {},
   "outputs": [
    {
     "data": {
      "text/plain": [
       "'4km is equal to 2.485484miles'"
      ]
     },
     "execution_count": 78,
     "metadata": {},
     "output_type": "execute_result"
    }
   ],
   "source": [
    "change(4)"
   ]
  },
  {
   "cell_type": "markdown",
   "id": "2781325b",
   "metadata": {},
   "source": [
    "## 9.to Convert Celsius To Fahrenheit"
   ]
  },
  {
   "cell_type": "code",
   "execution_count": 80,
   "id": "cf93844f",
   "metadata": {},
   "outputs": [],
   "source": [
    "def change(Celsius):\n",
    "    Fahrenheit=Celsius*(32+18)\n",
    "    return (f\"{Celsius}Celsius is equal to {Fahrenheit}Fahrenheit\")"
   ]
  },
  {
   "cell_type": "code",
   "execution_count": 81,
   "id": "8f5e1541",
   "metadata": {},
   "outputs": [
    {
     "data": {
      "text/plain": [
       "'50Celsius is equal to 2500Fahrenheit'"
      ]
     },
     "execution_count": 81,
     "metadata": {},
     "output_type": "execute_result"
    }
   ],
   "source": [
    "change(50)"
   ]
  },
  {
   "cell_type": "code",
   "execution_count": 82,
   "id": "62f9b83d",
   "metadata": {},
   "outputs": [
    {
     "data": {
      "text/plain": [
       "'-50Celsius is equal to -2500Fahrenheit'"
      ]
     },
     "execution_count": 82,
     "metadata": {},
     "output_type": "execute_result"
    }
   ],
   "source": [
    "change(-50)"
   ]
  },
  {
   "cell_type": "markdown",
   "id": "d7e45fb9",
   "metadata": {},
   "source": [
    "## 10.to Check if a Number is Positive, Negative or 0"
   ]
  },
  {
   "cell_type": "code",
   "execution_count": 55,
   "id": "bcef8b9a",
   "metadata": {},
   "outputs": [
    {
     "name": "stdout",
     "output_type": "stream",
     "text": [
      "enter the number: 5\n",
      "The given number is positive\n"
     ]
    }
   ],
   "source": [
    "number=int(input(\"enter the number: \"))\n",
    "if number>0:\n",
    "    print(\"The given number is positive\")\n",
    "elif num == 0:\n",
    "    print(\"Zero\")\n",
    "else:\n",
    "    print(\"The given number is negative\")"
   ]
  },
  {
   "cell_type": "code",
   "execution_count": 56,
   "id": "6e0e52e9",
   "metadata": {},
   "outputs": [
    {
     "name": "stdout",
     "output_type": "stream",
     "text": [
      "enter the number: 0\n",
      "Zero\n"
     ]
    }
   ],
   "source": [
    "number=int(input(\"enter the number: \"))\n",
    "if number>0:\n",
    "    print(\"The given number is positive\")\n",
    "elif num == 0:\n",
    "    print(\"Zero\")\n",
    "else:\n",
    "    print(\"The given number is negative\")"
   ]
  },
  {
   "cell_type": "code",
   "execution_count": 57,
   "id": "593b44e8",
   "metadata": {},
   "outputs": [
    {
     "name": "stdout",
     "output_type": "stream",
     "text": [
      "enter the number: -8\n",
      "Zero\n"
     ]
    }
   ],
   "source": [
    "number=int(input(\"enter the number: \"))\n",
    "if number>0:\n",
    "    print(\"The given number is positive\")\n",
    "elif num == 0:\n",
    "    print(\"Zero\")\n",
    "else:\n",
    "    print(\"The given number is negative\")"
   ]
  },
  {
   "cell_type": "markdown",
   "id": "5c22295e",
   "metadata": {},
   "source": [
    "## 11.to Check if a Number is Odd or Even"
   ]
  },
  {
   "cell_type": "code",
   "execution_count": 58,
   "id": "2a338fe2",
   "metadata": {},
   "outputs": [
    {
     "name": "stdout",
     "output_type": "stream",
     "text": [
      "enter the number4\n",
      "even\n"
     ]
    }
   ],
   "source": [
    "x=int(input(\"enter the number\"))\n",
    "if x%2==0:\n",
    "    print(\"even\")\n",
    "else:\n",
    "     print(\"odd\")"
   ]
  },
  {
   "cell_type": "code",
   "execution_count": 59,
   "id": "e9fec6d2",
   "metadata": {},
   "outputs": [
    {
     "name": "stdout",
     "output_type": "stream",
     "text": [
      "enter the number3\n",
      "odd\n"
     ]
    }
   ],
   "source": [
    "x=int(input(\"enter the number\"))\n",
    "if x%2==0:\n",
    "    print(\"even\")\n",
    "else:\n",
    "     print(\"odd\")"
   ]
  },
  {
   "cell_type": "markdown",
   "id": "96534438",
   "metadata": {},
   "source": [
    "## 12.to check leap year"
   ]
  },
  {
   "cell_type": "code",
   "execution_count": 39,
   "id": "4fdd790c",
   "metadata": {},
   "outputs": [
    {
     "name": "stdout",
     "output_type": "stream",
     "text": [
      "enter a year: 2014\n",
      "2014 is a not leapyear\n"
     ]
    }
   ],
   "source": [
    "import calendar\n",
    "year=int(input(\"enter a year: \"))\n",
    "leap_year=calendar.isleap(year)\n",
    "if leap_year:\n",
    "    print(year, \"is a leapyear\")\n",
    "else:\n",
    "    print(year, \"is a not leapyear\")"
   ]
  },
  {
   "cell_type": "code",
   "execution_count": 40,
   "id": "888b2698",
   "metadata": {},
   "outputs": [
    {
     "name": "stdout",
     "output_type": "stream",
     "text": [
      "enter a year: 2020\n",
      "2020 is a leapyear\n"
     ]
    }
   ],
   "source": [
    "import calendar\n",
    "year=int(input(\"enter a year: \"))\n",
    "leap_year=calendar.isleap(year)\n",
    "if leap_year:\n",
    "    print(year, \"is a leapyear\")\n",
    "else:\n",
    "    print(year, \"is a not leapyear\")"
   ]
  },
  {
   "cell_type": "markdown",
   "id": "764b0be1",
   "metadata": {},
   "source": [
    "## 13.to Find the Largest Among Three Numbers"
   ]
  },
  {
   "cell_type": "code",
   "execution_count": 61,
   "id": "78ce45c1",
   "metadata": {},
   "outputs": [
    {
     "name": "stdout",
     "output_type": "stream",
     "text": [
      "enter a number: 3\n",
      "enter a number: 4\n",
      "enter a number: 6\n",
      "The largest number is 6\n"
     ]
    }
   ],
   "source": [
    "a=int(input(\"enter a number: \"))\n",
    "b=int(input(\"enter a number: \"))\n",
    "c=int(input(\"enter a number: \"))\n",
    "if a>=b and a>=c:\n",
    "    Largest=a\n",
    "elif b>=a and b>=c:\n",
    "    Largest=b\n",
    "else:\n",
    "    Largest=c\n",
    "print(\"The largest number is\", Largest)\n",
    "    "
   ]
  },
  {
   "cell_type": "markdown",
   "id": "d1f9ed6c",
   "metadata": {},
   "source": [
    "## 14.to Check Prime Number"
   ]
  },
  {
   "cell_type": "code",
   "execution_count": 7,
   "id": "45421ac3",
   "metadata": {},
   "outputs": [
    {
     "name": "stdout",
     "output_type": "stream",
     "text": [
      "enter a number: 3\n",
      "3 is a prime number\n"
     ]
    }
   ],
   "source": [
    "num=int(input(\"enter a number: \"))\n",
    "if num>1:\n",
    "    for n in range(2,num):\n",
    "        if num%n==0:\n",
    "            print(num,\"is a not prime number\")\n",
    "            break\n",
    "    else:\n",
    "        print(num,\"is a prime number\")\n",
    "else:\n",
    "    print(num,\"is a not prime number\")"
   ]
  },
  {
   "cell_type": "markdown",
   "id": "0497a91b",
   "metadata": {},
   "source": [
    "## 15.to Print all Prime Numbers in an Interval"
   ]
  },
  {
   "cell_type": "code",
   "execution_count": 12,
   "id": "ea5bd049",
   "metadata": {},
   "outputs": [
    {
     "name": "stdout",
     "output_type": "stream",
     "text": [
      "enter the lower interval: 3\n",
      "enter the upper interval: 17\n",
      "3\n",
      "5\n",
      "7\n",
      "9\n",
      "11\n",
      "13\n",
      "15\n",
      "17\n"
     ]
    }
   ],
   "source": [
    "lower_num=int(input(\"enter the lower interval: \"))\n",
    "upper_num=int(input(\"enter the upper interval: \"))\n",
    "for num in range(lower_num,upper_num+1):\n",
    "    if num>1:\n",
    "        for i in range(2,num):\n",
    "            if num%i==0:\n",
    "                break\n",
    "            else:\n",
    "                print(num)\n",
    "                break"
   ]
  },
  {
   "cell_type": "markdown",
   "id": "cdbc0a24",
   "metadata": {},
   "source": [
    "## 16.factorial of a number"
   ]
  },
  {
   "cell_type": "code",
   "execution_count": 47,
   "id": "4a68b5dc",
   "metadata": {},
   "outputs": [
    {
     "name": "stdout",
     "output_type": "stream",
     "text": [
      "enter a number:  -5\n",
      "factorial does not exist for negative numbers\n"
     ]
    }
   ],
   "source": [
    "num=int(input(\"enter a number:  \"))\n",
    "out=1\n",
    "if num<0:\n",
    "    print(\"factorial does not exist for negative numbers\")\n",
    "elif num==0:\n",
    "    print(\"factorial of zero is one\")\n",
    "else:\n",
    "    for i in range(1,num+1):\n",
    "        out=out*i\n",
    "    print(\"factorial of number is \",out)"
   ]
  },
  {
   "cell_type": "code",
   "execution_count": 48,
   "id": "af0b930d",
   "metadata": {},
   "outputs": [
    {
     "name": "stdout",
     "output_type": "stream",
     "text": [
      "enter a number:  5\n",
      "factorial of number is  120\n"
     ]
    }
   ],
   "source": [
    "num=int(input(\"enter a number:  \"))\n",
    "out=1\n",
    "if num<0:\n",
    "    print(\"factorial does not exist for negative numbers\")\n",
    "elif num==0:\n",
    "    print(\"factorial of zero is one\")\n",
    "else:\n",
    "    for i in range(1,num+1):\n",
    "        out=out*i\n",
    "    print(\"factorial of number is \",out)\n",
    "    "
   ]
  },
  {
   "cell_type": "code",
   "execution_count": 49,
   "id": "09e7bdf6",
   "metadata": {},
   "outputs": [
    {
     "name": "stdout",
     "output_type": "stream",
     "text": [
      "enter a number:  0\n",
      "factorial of zero is one\n"
     ]
    }
   ],
   "source": [
    "num=int(input(\"enter a number:  \"))\n",
    "out=1\n",
    "if num<0:\n",
    "    print(\"factorial does not exist for negative numbers\")\n",
    "elif num==0:\n",
    "    print(\"factorial of zero is one\")\n",
    "else:\n",
    "    for i in range(1,num+1):\n",
    "        out=out*i\n",
    "    print(\"factorial of number is \",out)"
   ]
  },
  {
   "cell_type": "markdown",
   "id": "e949216c",
   "metadata": {},
   "source": [
    "## 17.to Display the multiplication Table"
   ]
  },
  {
   "cell_type": "code",
   "execution_count": 100,
   "id": "5a8d5214",
   "metadata": {},
   "outputs": [
    {
     "name": "stdout",
     "output_type": "stream",
     "text": [
      "Display multiplication table of  5\n",
      "5 x 1 = 5\n",
      "5 x 2 = 10\n",
      "5 x 3 = 15\n",
      "5 x 4 = 20\n",
      "5 x 5 = 25\n",
      "5 x 6 = 30\n",
      "5 x 7 = 35\n",
      "5 x 8 = 40\n",
      "5 x 9 = 45\n",
      "5 x 10 = 50\n"
     ]
    }
   ],
   "source": [
    "num = int(input(\"Display multiplication table of  \"))\n",
    "for i in range(1, 11):\n",
    "    print(num, 'x', i, '=', num*i)"
   ]
  },
  {
   "cell_type": "markdown",
   "id": "cf8ea556",
   "metadata": {},
   "source": [
    "## 18.to Print the Fibonacci sequence"
   ]
  },
  {
   "cell_type": "code",
   "execution_count": 14,
   "id": "cd2c0b23",
   "metadata": {},
   "outputs": [
    {
     "name": "stdout",
     "output_type": "stream",
     "text": [
      "no of fibonacci numbers needed: 10\n",
      "0\n",
      "1\n",
      "1\n",
      "2\n",
      "3\n",
      "5\n",
      "8\n",
      "13\n",
      "21\n",
      "34\n"
     ]
    }
   ],
   "source": [
    "number=int(input('no of fibonacci numbers needed: '))\n",
    "first=0\n",
    "second=1\n",
    "for num in range(number):\n",
    "    print(first)\n",
    "    temp=first\n",
    "    first=second\n",
    "    second=temp+second\n"
   ]
  },
  {
   "cell_type": "markdown",
   "id": "8dd9b12e",
   "metadata": {},
   "source": [
    "## 19.to Check Armstrong Number19."
   ]
  },
  {
   "cell_type": "code",
   "execution_count": 6,
   "id": "2985db00",
   "metadata": {},
   "outputs": [
    {
     "name": "stdout",
     "output_type": "stream",
     "text": [
      "enter the number: 19\n"
     ]
    },
    {
     "ename": "TypeError",
     "evalue": "'int' object is not iterable",
     "output_type": "error",
     "traceback": [
      "\u001b[1;31m---------------------------------------------------------------------------\u001b[0m",
      "\u001b[1;31mTypeError\u001b[0m                                 Traceback (most recent call last)",
      "Cell \u001b[1;32mIn[6], line 2\u001b[0m\n\u001b[0;32m      1\u001b[0m num\u001b[38;5;241m=\u001b[39m\u001b[38;5;28minput\u001b[39m(\u001b[38;5;124m\"\u001b[39m\u001b[38;5;124menter the number: \u001b[39m\u001b[38;5;124m\"\u001b[39m)\n\u001b[1;32m----> 2\u001b[0m \u001b[38;5;28;01mfor\u001b[39;00m i \u001b[38;5;129;01min\u001b[39;00m \u001b[38;5;28mlen\u001b[39m(num):\n\u001b[0;32m      3\u001b[0m     \u001b[38;5;28;01mif\u001b[39;00m i\u001b[38;5;241m*\u001b[39m\u001b[38;5;241m*\u001b[39m\u001b[38;5;28mlen\u001b[39m(num):\n\u001b[0;32m      4\u001b[0m         \u001b[38;5;28mprint\u001b[39m(\u001b[38;5;124m\"\u001b[39m\u001b[38;5;124mthe given number is an armstrong\u001b[39m\u001b[38;5;124m\"\u001b[39m)\n",
      "\u001b[1;31mTypeError\u001b[0m: 'int' object is not iterable"
     ]
    }
   ],
   "source": [
    "num=input(\"enter the number: \")\n",
    "\n",
    "for i in len(num):\n",
    "    if i**len(num):\n",
    "        print(\"the given number is an armstrong\")\n",
    "    else:\n",
    "        print(\"the given number is not an armstrong\")"
   ]
  },
  {
   "cell_type": "markdown",
   "id": "538535dd",
   "metadata": {},
   "source": [
    "## 20.to Find Armstrong Number in an Interval"
   ]
  },
  {
   "cell_type": "code",
   "execution_count": null,
   "id": "fa8b7987",
   "metadata": {},
   "outputs": [],
   "source": []
  },
  {
   "cell_type": "markdown",
   "id": "e7f72ebb",
   "metadata": {},
   "source": [
    "## 21.to Find the Sum of Natural Numbers"
   ]
  },
  {
   "cell_type": "code",
   "execution_count": 8,
   "id": "62f0b803",
   "metadata": {},
   "outputs": [],
   "source": [
    "def sums(num):\n",
    "    add=(num*(num+1))//2\n",
    "    return add"
   ]
  },
  {
   "cell_type": "code",
   "execution_count": 9,
   "id": "eea53a56",
   "metadata": {},
   "outputs": [
    {
     "data": {
      "text/plain": [
       "136"
      ]
     },
     "execution_count": 9,
     "metadata": {},
     "output_type": "execute_result"
    }
   ],
   "source": [
    "sums(16)"
   ]
  },
  {
   "cell_type": "markdown",
   "id": "f4f0a3f6",
   "metadata": {},
   "source": [
    "## 22.to Display Powers of 2 Using Anonymous Function"
   ]
  },
  {
   "cell_type": "code",
   "execution_count": 13,
   "id": "ce9cf6c9",
   "metadata": {},
   "outputs": [
    {
     "name": "stdout",
     "output_type": "stream",
     "text": [
      "How many terms? 5\n",
      "The total terms are: 5\n",
      "2 raised to power 0 is 1\n",
      "2 raised to power 1 is 2\n",
      "2 raised to power 2 is 4\n",
      "2 raised to power 3 is 8\n",
      "2 raised to power 4 is 16\n"
     ]
    }
   ],
   "source": [
    "num_of_terms=int(input(\"How many terms? \"))\n",
    "powers=list(map(lambda x: 2 ** x, range(num_of_terms)))\n",
    "print(\"The total terms are:\",num_of_terms)\n",
    "for i in range(num_of_terms):\n",
    "    print(\"2 raised to power\",i,\"is\",powers[i])\n",
    "    "
   ]
  },
  {
   "cell_type": "markdown",
   "id": "4584aef3",
   "metadata": {},
   "source": [
    "## 23. to Find Numbers Divisible by Another Number"
   ]
  },
  {
   "cell_type": "code",
   "execution_count": 2,
   "id": "0038c615",
   "metadata": {},
   "outputs": [
    {
     "name": "stdout",
     "output_type": "stream",
     "text": [
      "numbers divisible by 3 are:  [66, 0, 12, 63]\n"
     ]
    }
   ],
   "source": [
    "my_list = [22,66,0,12,63,80,2,4]\n",
    "divsibility=list(filter(lambda x:(x%3==0),my_list))\n",
    "print(\"numbers divisible by 3 are: \",divsibility)"
   ]
  },
  {
   "cell_type": "markdown",
   "id": "706c1bd3",
   "metadata": {},
   "source": [
    "## 24.to Convert Decimal to Binary, Octal and Hexadecimal"
   ]
  },
  {
   "cell_type": "code",
   "execution_count": null,
   "id": "64b65617",
   "metadata": {},
   "outputs": [],
   "source": [
    "num=int(input(\"enter a decimal number: \"))\n"
   ]
  },
  {
   "cell_type": "code",
   "execution_count": null,
   "id": "13bc3ad9",
   "metadata": {},
   "outputs": [],
   "source": []
  },
  {
   "cell_type": "markdown",
   "id": "52cfcb9c",
   "metadata": {},
   "source": [
    "## 25.to Find ASCII Value of Character"
   ]
  },
  {
   "cell_type": "code",
   "execution_count": 2,
   "id": "a13308c9",
   "metadata": {},
   "outputs": [
    {
     "data": {
      "text/plain": [
       "112"
      ]
     },
     "execution_count": 2,
     "metadata": {},
     "output_type": "execute_result"
    }
   ],
   "source": [
    "ascii=\"p\"\n",
    "ord(ascii)"
   ]
  },
  {
   "cell_type": "code",
   "execution_count": 3,
   "id": "dd96611f",
   "metadata": {},
   "outputs": [],
   "source": [
    "def wish(character):\n",
    "    return ord(character)\n",
    "    "
   ]
  },
  {
   "cell_type": "code",
   "execution_count": 4,
   "id": "fd1facd2",
   "metadata": {},
   "outputs": [
    {
     "data": {
      "text/plain": [
       "107"
      ]
     },
     "execution_count": 4,
     "metadata": {},
     "output_type": "execute_result"
    }
   ],
   "source": [
    "wish(\"k\")"
   ]
  },
  {
   "cell_type": "code",
   "execution_count": 8,
   "id": "8783a99a",
   "metadata": {},
   "outputs": [
    {
     "data": {
      "text/plain": [
       "56"
      ]
     },
     "execution_count": 8,
     "metadata": {},
     "output_type": "execute_result"
    }
   ],
   "source": [
    "wish(\"8\")"
   ]
  },
  {
   "cell_type": "markdown",
   "id": "5cd5e0de",
   "metadata": {},
   "source": [
    "## 26.to Find HCF or GCD"
   ]
  },
  {
   "cell_type": "code",
   "execution_count": 18,
   "id": "474b7b6a",
   "metadata": {},
   "outputs": [
    {
     "name": "stdout",
     "output_type": "stream",
     "text": [
      "enter the first number23\n",
      "enter the second number45\n",
      "HCF or GCD of 23 and 45 is:  1\n"
     ]
    }
   ],
   "source": [
    "def gcd(a,b):\n",
    "    if b==0:\n",
    "        return a\n",
    "    else:\n",
    "        return gcd(b,a%b)\n",
    "num1=int(input(\"enter the first number\"))\n",
    "num2=int(input(\"enter the second number\"))\n",
    "result=gcd(num1,num2)\n",
    "print(\"HCF or GCD of\",num1,\"and\",num2,\"is: \",result)"
   ]
  },
  {
   "cell_type": "code",
   "execution_count": 22,
   "id": "6ede2cd1",
   "metadata": {},
   "outputs": [],
   "source": [
    "import math\n",
    "def num(a,b):\n",
    "    if b==0:\n",
    "        return a\n",
    "        "
   ]
  },
  {
   "cell_type": "markdown",
   "id": "01813fe6",
   "metadata": {},
   "source": [
    "## 27.to Find LCM"
   ]
  },
  {
   "cell_type": "code",
   "execution_count": null,
   "id": "ce88f106",
   "metadata": {},
   "outputs": [],
   "source": [
    "num1=int(input(\"enter the first number\"))\n",
    "num2=int(input(\"enter the second number\"))"
   ]
  },
  {
   "cell_type": "code",
   "execution_count": 23,
   "id": "da6f5120",
   "metadata": {},
   "outputs": [
    {
     "name": "stdout",
     "output_type": "stream",
     "text": [
      "enter the first number10\n",
      "enter the second number12\n",
      "LCM or GCD of 10 and 12 is:  60\n"
     ]
    }
   ],
   "source": [
    "def gcd(a,b):\n",
    "    if b==0:\n",
    "        return a\n",
    "    else:\n",
    "        return gcd(b,a%b)\n",
    "def lcm(a,b):\n",
    "    return (a*b)//gcd(a,b)\n",
    "num1=int(input(\"enter the first number\"))\n",
    "num2=int(input(\"enter the second number\"))\n",
    "result=lcm(num1,num2)\n",
    "print(\"LCM or GCD of\",num1,\"and\",num2,\"is: \",result)\n"
   ]
  },
  {
   "cell_type": "markdown",
   "id": "a78babf4",
   "metadata": {},
   "source": [
    "## 28.to Find the Factors of a Number"
   ]
  },
  {
   "cell_type": "code",
   "execution_count": 25,
   "id": "56410dd8",
   "metadata": {
    "scrolled": false
   },
   "outputs": [
    {
     "name": "stdout",
     "output_type": "stream",
     "text": [
      "enter a number: 12\n",
      "the factors of 12 are:  1\n",
      "the factors of 12 are:  2\n",
      "the factors of 12 are:  3\n",
      "the factors of 12 are:  4\n",
      "the factors of 12 are:  6\n",
      "the factors of 12 are:  12\n"
     ]
    }
   ],
   "source": [
    "num=int(input(\"enter a number: \"))\n",
    "for n in range(1,num+1):\n",
    "    if num%n==0:\n",
    "        print(\"the factors of\" ,num, \"are: \",n)"
   ]
  },
  {
   "cell_type": "markdown",
   "id": "54c167f9",
   "metadata": {},
   "source": [
    "## 29.to Make a Simple Calculator"
   ]
  },
  {
   "cell_type": "code",
   "execution_count": null,
   "id": "7250e3dc",
   "metadata": {},
   "outputs": [],
   "source": []
  },
  {
   "cell_type": "markdown",
   "id": "ea0c11e4",
   "metadata": {},
   "source": [
    "## 30. to Shuffle Deck of Cards"
   ]
  },
  {
   "cell_type": "code",
   "execution_count": 18,
   "id": "3a801302",
   "metadata": {},
   "outputs": [],
   "source": [
    "import itertools,random\n",
    "deck=li"
   ]
  },
  {
   "cell_type": "code",
   "execution_count": null,
   "id": "0a02736f",
   "metadata": {},
   "outputs": [],
   "source": []
  },
  {
   "cell_type": "markdown",
   "id": "b48b10ae",
   "metadata": {},
   "source": [
    "## 31.to display calendar"
   ]
  },
  {
   "cell_type": "code",
   "execution_count": 34,
   "id": "648de867",
   "metadata": {},
   "outputs": [
    {
     "name": "stdout",
     "output_type": "stream",
     "text": [
      "     July 2023\n",
      "Mo Tu We Th Fr Sa Su\n",
      "                1  2\n",
      " 3  4  5  6  7  8  9\n",
      "10 11 12 13 14 15 16\n",
      "17 18 19 20 21 22 23\n",
      "24 25 26 27 28 29 30\n",
      "31\n",
      "\n"
     ]
    }
   ],
   "source": [
    "import calendar\n",
    "print(calendar.month(2023,7))"
   ]
  },
  {
   "cell_type": "markdown",
   "id": "7de3b9a2",
   "metadata": {},
   "source": [
    "## 32.to Display Fibonacci Sequence Using Recursion"
   ]
  },
  {
   "cell_type": "code",
   "execution_count": null,
   "id": "3a8bd97c",
   "metadata": {},
   "outputs": [],
   "source": []
  },
  {
   "cell_type": "markdown",
   "id": "7546484d",
   "metadata": {},
   "source": [
    "## 33.to Find Sum of Natural Numbers Using Recursion"
   ]
  },
  {
   "cell_type": "code",
   "execution_count": null,
   "id": "fba3615f",
   "metadata": {},
   "outputs": [],
   "source": []
  },
  {
   "cell_type": "markdown",
   "id": "06b9e79b",
   "metadata": {},
   "source": [
    "## 34.to Find Factorial of Number Using Recursion"
   ]
  },
  {
   "cell_type": "code",
   "execution_count": null,
   "id": "d0199ef2",
   "metadata": {},
   "outputs": [],
   "source": []
  },
  {
   "cell_type": "markdown",
   "id": "b2350c14",
   "metadata": {},
   "source": [
    "## 35.to covert  Decimal to Binary Using Recursion"
   ]
  },
  {
   "cell_type": "code",
   "execution_count": null,
   "id": "5803a238",
   "metadata": {},
   "outputs": [],
   "source": []
  },
  {
   "cell_type": "markdown",
   "id": "f009f828",
   "metadata": {},
   "source": [
    "## 36.Program to Add Two Matrices"
   ]
  },
  {
   "cell_type": "code",
   "execution_count": null,
   "id": "848ea658",
   "metadata": {},
   "outputs": [],
   "source": []
  },
  {
   "cell_type": "markdown",
   "id": "c0fa64f7",
   "metadata": {},
   "source": [
    "## 37. to Transpose a Matrix"
   ]
  },
  {
   "cell_type": "code",
   "execution_count": null,
   "id": "19108929",
   "metadata": {},
   "outputs": [],
   "source": []
  },
  {
   "cell_type": "markdown",
   "id": "fefad6dd",
   "metadata": {},
   "source": [
    "## 38.to Multiply Two Matrices"
   ]
  },
  {
   "cell_type": "code",
   "execution_count": null,
   "id": "5a3dd404",
   "metadata": {},
   "outputs": [],
   "source": []
  },
  {
   "cell_type": "code",
   "execution_count": null,
   "id": "fe5938a0",
   "metadata": {},
   "outputs": [],
   "source": []
  },
  {
   "cell_type": "markdown",
   "id": "cc456d7d",
   "metadata": {},
   "source": [
    "## 39.to check whether a string is palindrome or not"
   ]
  },
  {
   "cell_type": "code",
   "execution_count": 35,
   "id": "1fcbc759",
   "metadata": {},
   "outputs": [
    {
     "name": "stdout",
     "output_type": "stream",
     "text": [
      "enter a word: noon\n",
      "it is a palindrome\n"
     ]
    }
   ],
   "source": [
    "name=input(\"enter a word: \")\n",
    "if name==name[::-1]:\n",
    "    print(\"it is a palindrome\")\n",
    "else:\n",
    "     print(\"it is a not palindrome\")"
   ]
  },
  {
   "cell_type": "code",
   "execution_count": 36,
   "id": "0cdbb827",
   "metadata": {},
   "outputs": [
    {
     "name": "stdout",
     "output_type": "stream",
     "text": [
      "enter a word: good\n",
      "it is a not palindrome\n"
     ]
    }
   ],
   "source": [
    "name=input(\"enter a word: \")\n",
    "if name==name[::-1]:\n",
    "    print(\"it is a palindrome\")\n",
    "else:\n",
    "     print(\"it is a not palindrome\")"
   ]
  },
  {
   "cell_type": "markdown",
   "id": "ae5c59c9",
   "metadata": {},
   "source": [
    "## 40. to Remove Punctuations From a String"
   ]
  },
  {
   "cell_type": "code",
   "execution_count": 8,
   "id": "40671997",
   "metadata": {},
   "outputs": [
    {
     "name": "stdout",
     "output_type": "stream",
     "text": [
      "enter a string: as@#$gji*&!gh as@#$gji*&!gh\n",
      "as@#$gji*&!gh as@#$gji*&!gh\n"
     ]
    }
   ],
   "source": [
    "strr=input(\"enter a string: \")\n",
    "no_punct=\"\"\n",
    "for st in strr:\n",
    "    if st not in strr:\n",
    "        no_punct=no_punct+st\n",
    "print(strr)"
   ]
  },
  {
   "cell_type": "markdown",
   "id": "9c52bbee",
   "metadata": {},
   "source": [
    "## 41.to Sort Words in Alphabetic Order"
   ]
  },
  {
   "cell_type": "code",
   "execution_count": 5,
   "id": "8d6500fc",
   "metadata": {},
   "outputs": [
    {
     "name": "stdout",
     "output_type": "stream",
     "text": [
      "enter the words: rftgfsdazc\n",
      "Words in Alphabetic Order\n"
     ]
    },
    {
     "ename": "TypeError",
     "evalue": "'NoneType' object is not iterable",
     "output_type": "error",
     "traceback": [
      "\u001b[1;31m---------------------------------------------------------------------------\u001b[0m",
      "\u001b[1;31mTypeError\u001b[0m                                 Traceback (most recent call last)",
      "Cell \u001b[1;32mIn[5], line 5\u001b[0m\n\u001b[0;32m      3\u001b[0m new\u001b[38;5;241m=\u001b[39malphabetic_order\u001b[38;5;241m.\u001b[39msort()\n\u001b[0;32m      4\u001b[0m \u001b[38;5;28mprint\u001b[39m(\u001b[38;5;124m\"\u001b[39m\u001b[38;5;124mWords in Alphabetic Order\u001b[39m\u001b[38;5;124m\"\u001b[39m)\n\u001b[1;32m----> 5\u001b[0m \u001b[38;5;28;01mfor\u001b[39;00m word \u001b[38;5;129;01min\u001b[39;00m new:\n\u001b[0;32m      6\u001b[0m     \u001b[38;5;28mprint\u001b[39m(new)\n",
      "\u001b[1;31mTypeError\u001b[0m: 'NoneType' object is not iterable"
     ]
    }
   ],
   "source": [
    "words=input(\"enter the words: \")\n",
    "alphabetic_order=[words.upper() for word in words.split()]\n",
    "new=alphabetic_order.sort()\n",
    "print(\"Words in Alphabetic Order\")\n",
    "for word in new:\n",
    "    print(new)"
   ]
  },
  {
   "cell_type": "code",
   "execution_count": 19,
   "id": "e16e6764",
   "metadata": {},
   "outputs": [],
   "source": [
    "def order(words):\n",
    "    for word in words.split():\n",
    "        if word.sort():\n",
    "            return (f\"Words in Alphabetic Order\",word)"
   ]
  },
  {
   "cell_type": "markdown",
   "id": "ad77d9ba",
   "metadata": {},
   "source": [
    "## 42. to Illustrate Different Set Operations"
   ]
  },
  {
   "cell_type": "markdown",
   "id": "429ff5e0",
   "metadata": {},
   "source": [
    "## 43.to Count the Number of Each Vowel"
   ]
  },
  {
   "cell_type": "code",
   "execution_count": 19,
   "id": "56147b28",
   "metadata": {},
   "outputs": [
    {
     "name": "stdout",
     "output_type": "stream",
     "text": [
      "enter the words: to Illustrate Different Set Operations\n",
      "number of VOWELS is:  14\n"
     ]
    }
   ],
   "source": [
    "names=input(\"enter the words: \")\n",
    "vowels=\"AEIOUaeiou\"\n",
    "count=0\n",
    "for vow in names:\n",
    "    if vow in vowels:\n",
    "        count=count+1\n",
    "print(\"number of VOWELS is: \",count)\n"
   ]
  },
  {
   "cell_type": "markdown",
   "id": "107155d1",
   "metadata": {},
   "source": [
    "## 44.to Merge Mails"
   ]
  },
  {
   "cell_type": "markdown",
   "id": "22c2612b",
   "metadata": {},
   "source": [
    "## 45.to Find the Size (Resolution) of a Image"
   ]
  },
  {
   "cell_type": "markdown",
   "id": "301b1d7f",
   "metadata": {},
   "source": [
    "## 46. to Find Hash of File"
   ]
  },
  {
   "cell_type": "markdown",
   "id": "984bacfc",
   "metadata": {},
   "source": [
    "## 47.to Create Pyramid Patterns"
   ]
  },
  {
   "cell_type": "markdown",
   "id": "18ca6bc8",
   "metadata": {},
   "source": [
    "## 48.to Merge Two Dictionaries"
   ]
  },
  {
   "cell_type": "markdown",
   "id": "11486e2f",
   "metadata": {},
   "source": [
    "## 49. to Safely Create a Nested Directory"
   ]
  },
  {
   "cell_type": "markdown",
   "id": "3616a1b7",
   "metadata": {},
   "source": [
    "## 50. to Access Index of a List Using for Loop"
   ]
  },
  {
   "cell_type": "code",
   "execution_count": null,
   "id": "495dd002",
   "metadata": {},
   "outputs": [],
   "source": [
    "51."
   ]
  },
  {
   "cell_type": "code",
   "execution_count": null,
   "id": "6b9dcca6",
   "metadata": {},
   "outputs": [],
   "source": [
    "52."
   ]
  },
  {
   "cell_type": "code",
   "execution_count": null,
   "id": "a9dc5e77",
   "metadata": {},
   "outputs": [],
   "source": [
    "53."
   ]
  },
  {
   "cell_type": "code",
   "execution_count": null,
   "id": "68ecfa75",
   "metadata": {},
   "outputs": [],
   "source": [
    "54."
   ]
  },
  {
   "cell_type": "markdown",
   "id": "99fae50e",
   "metadata": {},
   "source": [
    "## 58.to Concatenate Two Lists"
   ]
  },
  {
   "cell_type": "code",
   "execution_count": 11,
   "id": "aae1538e",
   "metadata": {},
   "outputs": [
    {
     "name": "stdout",
     "output_type": "stream",
     "text": [
      "[11, 22, 33, 44, 55, 66, 77, 88, 99, 100]\n"
     ]
    }
   ],
   "source": [
    "num_1=[11,22,33,44,55]\n",
    "num_2=[66,77,88,99,100]\n",
    "new_num=num_1+num_2\n",
    "print(new_num)"
   ]
  },
  {
   "cell_type": "code",
   "execution_count": null,
   "id": "dcc5d4b5",
   "metadata": {},
   "outputs": [],
   "source": []
  }
 ],
 "metadata": {
  "kernelspec": {
   "display_name": "Python 3 (ipykernel)",
   "language": "python",
   "name": "python3"
  },
  "language_info": {
   "codemirror_mode": {
    "name": "ipython",
    "version": 3
   },
   "file_extension": ".py",
   "mimetype": "text/x-python",
   "name": "python",
   "nbconvert_exporter": "python",
   "pygments_lexer": "ipython3",
   "version": "3.10.9"
  }
 },
 "nbformat": 4,
 "nbformat_minor": 5
}
